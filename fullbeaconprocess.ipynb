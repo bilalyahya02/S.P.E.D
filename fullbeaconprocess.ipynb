{
 "cells": [
  {
   "cell_type": "code",
   "execution_count": 4,
   "metadata": {},
   "outputs": [
    {
     "data": {
      "text/plain": [
       "13"
      ]
     },
     "execution_count": 4,
     "metadata": {},
     "output_type": "execute_result"
    }
   ],
   "source": [
    "import cv2 \n",
    "\n",
    "import numpy as np \n",
    "\n",
    "image = cv2.imread('beacons.png') \n",
    "lower_red = np.array([0, 0, 200], dtype = \"uint8\") \n",
    "\n",
    "upper_red= np.array([0, 0, 255], dtype = \"uint8\")\n",
    "mask = cv2.inRange(image, lower_red, upper_red)\n",
    "detected_output = cv2.bitwise_and(image, image, mask =  mask) \n",
    "\n",
    "cv2.imshow(\"red color detection\", detected_output) \n",
    "\n",
    "cv2.waitKey(0) \n"
   ]
  }
 ],
 "metadata": {
  "kernelspec": {
   "display_name": "opencv-env",
   "language": "python",
   "name": "python3"
  },
  "language_info": {
   "codemirror_mode": {
    "name": "ipython",
    "version": 3
   },
   "file_extension": ".py",
   "mimetype": "text/x-python",
   "name": "python",
   "nbconvert_exporter": "python",
   "pygments_lexer": "ipython3",
   "version": "3.11.3"
  },
  "orig_nbformat": 4
 },
 "nbformat": 4,
 "nbformat_minor": 2
}
