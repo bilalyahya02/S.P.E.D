{
 "cells": [
  {
   "cell_type": "code",
   "execution_count": 8,
   "metadata": {},
   "outputs": [
    {
     "ename": "",
     "evalue": "",
     "output_type": "error",
     "traceback": [
      "\u001b[1;31mThe Kernel crashed while executing code in the the current cell or a previous cell. Please review the code in the cell(s) to identify a possible cause of the failure. Click <a href='https://aka.ms/vscodeJupyterKernelCrash'>here</a> for more info. View Jupyter <a href='command:jupyter.viewOutput'>log</a> for further details."
     ]
    }
   ],
   "source": [
    "# Python code for Multiple Color Detection\n",
    "\n",
    "import cv2\n",
    "import numpy as np\n",
    "import matplotlib.pyplot as plt\n",
    "%matplotlib inline\n",
    "from IPython.display import Image\n",
    "import glob\n",
    "import math\n",
    "\n",
    " \n",
    "input_img = cv2.imread(\"beacons.png\")\n",
    "img = cv2.resize(input_img, (640, 480))\n",
    "# Make a copy to draw contour outline\n",
    "input_image_cpy = img.copy()\n",
    " \n",
    "hsv = cv2.cvtColor(img, cv2.COLOR_BGR2HSV)\n",
    " \n",
    "# define range of red color in HSV\n",
    "lower_red = np.array([0, 50, 50])\n",
    "upper_red = np.array([20, 255, 255])\n",
    " \n",
    "# define range of green color in HSV\n",
    "lower_yellow = np.array([20, 100, 100])\n",
    "upper_yellow = np.array([30, 255, 255])\n",
    " \n",
    "# define range of blue color in HSV\n",
    "lower_blue = np.array([100, 50, 50])\n",
    "upper_blue = np.array([130, 255, 255])\n",
    " \n",
    "# create a mask for red color\n",
    "mask_red = cv2.inRange(hsv, lower_red, upper_red)\n",
    " \n",
    "# create a mask for green color\n",
    "mask_yellow = cv2.inRange(hsv, lower_yellow, upper_yellow)\n",
    " \n",
    "# create a mask for blue color\n",
    "mask_blue = cv2.inRange(hsv, lower_blue, upper_blue)\n",
    " \n",
    "# find contours in the red mask\n",
    "contours_red, _ = cv2.findContours(mask_red, cv2.RETR_TREE, cv2.CHAIN_APPROX_SIMPLE)\n",
    " \n",
    "# find contours in the green mask\n",
    "contours_yellow, _ = cv2.findContours(mask_yellow, cv2.RETR_TREE, cv2.CHAIN_APPROX_SIMPLE)\n",
    " \n",
    "# find contours in the blue mask\n",
    "contours_blue, _ = cv2.findContours(mask_blue, cv2.RETR_TREE, cv2.CHAIN_APPROX_SIMPLE)\n",
    " \n",
    "# loop through the red contours and draw a rectangle around them\n",
    "for cnt in contours_red:\n",
    "    contour_area = cv2.contourArea(cnt)\n",
    "    if contour_area > 1000:\n",
    "        x, y, w, h = cv2.boundingRect(cnt)\n",
    "        cv2.rectangle(img, (x, y), (x + w, y + h), (0, 0, 255), 2)\n",
    "        cv2.putText(img, 'Red', (x, y-10), cv2.FONT_HERSHEY_SIMPLEX, 0.9, (0, 0, 255), 2)\n",
    "     \n",
    "# loop through the green contours and draw a rectangle around them\n",
    "for cnt in contours_yellow:\n",
    "    contour_area = cv2.contourArea(cnt)\n",
    "    if contour_area > 1000:\n",
    "        x, y, w, h = cv2.boundingRect(cnt)\n",
    "        cv2.rectangle(img, (x, y), (x + w, y + h), (0, 255, 255), 2)\n",
    "        cv2.putText(img, 'Yellow', (x, y-10), cv2.FONT_HERSHEY_SIMPLEX, 0.9, (0, 255, 255), 2)\n",
    " \n",
    "# loop through the blue contours and draw a rectangle around them\n",
    "for cnt in contours_blue:\n",
    "    contour_area = cv2.contourArea(cnt)\n",
    "    if contour_area > 1000:\n",
    "        x, y, w, h = cv2.boundingRect(cnt)\n",
    "        cv2.rectangle(img, (x, y), (x + w, y + h), (255, 0, 0), 2)\n",
    "        cv2.putText(img, 'Blue', (x, y-10), cv2.FONT_HERSHEY_SIMPLEX, 0.9, (255, 0, 0), 2)\n",
    " \n",
    "# Display final output for multiple color detection opencv python\n",
    "cv2.imshow('image', img)\n",
    "cv2.waitKey(0)\n",
    "cv2.destroyAllWindows()"
   ]
  }
 ],
 "metadata": {
  "kernelspec": {
   "display_name": "opencv-env",
   "language": "python",
   "name": "python3"
  },
  "language_info": {
   "codemirror_mode": {
    "name": "ipython",
    "version": 3
   },
   "file_extension": ".py",
   "mimetype": "text/x-python",
   "name": "python",
   "nbconvert_exporter": "python",
   "pygments_lexer": "ipython3",
   "version": "3.11.3"
  },
  "orig_nbformat": 4
 },
 "nbformat": 4,
 "nbformat_minor": 2
}
